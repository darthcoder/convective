{
 "cells": [
  {
   "cell_type": "code",
   "execution_count": 8,
   "metadata": {
    "collapsed": false
   },
   "outputs": [
    {
     "data": {
      "text/plain": [
       "<matplotlib.text.Text at 0x105bb3e90>"
      ]
     },
     "execution_count": 8,
     "metadata": {},
     "output_type": "execute_result"
    }
   ],
   "source": [
    "import math\n",
    "xdata = array([25,50,60,75,100,125,150])\n",
    "experimental = array([2,8,12,15,22,28,36])\n",
    "delano = array([24,56,58,56,51,47,40])\n",
    "basit = array([21.1,22.4,26.5,37.8,36.8,40.5,48])\n",
    "\n",
    "plot(xdata,experimental,'ro')\n",
    "plot(xdata,delano,'r--')\n",
    "plot(xdata,basit,'bo')\n",
    "legend(('Experimental','Delano','Basit'),'lower right')\n",
    "ylabel('Mass flow rate (g/min)')\n",
    "xlabel('Heat input(W)')\n",
    "title('Comparison of Delano, McCulloch and Basit')"
   ]
  },
  {
   "cell_type": "code",
   "execution_count": 7,
   "metadata": {
    "collapsed": false
   },
   "outputs": [],
   "source": []
  },
  {
   "cell_type": "code",
   "execution_count": null,
   "metadata": {
    "collapsed": false
   },
   "outputs": [],
   "source": []
  }
 ],
 "metadata": {},
 "nbformat": 4,
 "nbformat_minor": 0
}
