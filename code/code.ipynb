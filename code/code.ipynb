{
 "cells": [
  {
   "cell_type": "code",
   "execution_count": 3,
   "metadata": {
    "collapsed": false
   },
   "outputs": [],
   "source": [
    "import sys\n",
    "import os"
   ]
  },
  {
   "cell_type": "code",
   "execution_count": 13,
   "metadata": {
    "collapsed": false
   },
   "outputs": [
    {
     "data": {
      "text/plain": [
       "0"
      ]
     },
     "execution_count": 13,
     "metadata": {},
     "output_type": "execute_result"
    }
   ],
   "source": [
    "os.system('./a.out > fle')"
   ]
  },
  {
   "cell_type": "code",
   "execution_count": 17,
   "metadata": {
    "collapsed": false
   },
   "outputs": [
    {
     "name": "stdout",
     "output_type": "stream",
     "text": [
      "\u001b[0m\u001b[01;32ma.out\u001b[0m*  code.ipynb  file.txt  fle  flow.py  heat.f90  Makefile"
     ]
    }
   ],
   "source": [
    "ls"
   ]
  },
  {
   "cell_type": "code",
   "execution_count": 21,
   "metadata": {
    "collapsed": false
   },
   "outputs": [],
   "source": [
    "data = loadtxt(\"solution.txt\")"
   ]
  },
  {
   "cell_type": "code",
   "execution_count": 22,
   "metadata": {
    "collapsed": true
   },
   "outputs": [],
   "source": [
    "are = array(data)"
   ]
  },
  {
   "cell_type": "code",
   "execution_count": 23,
   "metadata": {
    "collapsed": false
   },
   "outputs": [
    {
     "data": {
      "text/plain": [
       "array([ 72.96657945,  75.77667331,  76.05951556,  75.99762948,\n",
       "        75.9064334 ,  75.83713799,  75.79151117,  75.75583049,\n",
       "        75.64520644,  74.70757458,  65.03979529,  68.00049454,\n",
       "        68.26749071,  67.99830241,  67.7118189 ,  67.50406029,\n",
       "        67.37103063,  67.2843985 ,  67.12926808,  66.17269295,\n",
       "        60.71874119,  61.82844011,  61.4628008 ,  60.83938612,\n",
       "        60.33156487,  59.98758139,  59.77559705,  59.66510199,\n",
       "        59.62501412,  59.42905096,  58.04331249,  56.81667724,\n",
       "        55.46611339,  54.38378291,  53.64320083,  53.17404828,\n",
       "        52.89392412,  52.7702529 ,  52.89914037,  53.68617341,\n",
       "        56.06769859,  52.48167499,  50.03487171,  48.47696708,\n",
       "        47.52727604,  46.95920177,  46.62421712,  46.4720227 ,\n",
       "        46.69286751,  48.29496393,  54.23617423,  48.36706794,\n",
       "        44.90672355,  42.96137004,  41.87209389,  41.25049639,\n",
       "        40.8794358 ,  40.66314923,  40.77051611,  42.6112457 ,\n",
       "        52.05509462,  44.02162249,  39.82601928,  37.69290505,\n",
       "        36.58062141,  35.96997154,  35.59227025,  35.27892878,\n",
       "        34.97315789,  35.84150268,  48.81184828,  38.9612532 ,\n",
       "        34.56930006,  32.55925878,  31.57792491,  31.05612541,\n",
       "        30.71664205,  30.31832449,  29.33349958,  26.8402455 ,\n",
       "        43.13150238,  32.6671754 ,  28.98916927,  27.500642  ,\n",
       "        26.81749055,  26.46336974,  26.22123541,  25.84874752,\n",
       "        24.35066533,  13.82331372,  32.02795637,  24.73129874,\n",
       "        23.09487005,  22.53014733,  22.28408535,  22.1585032 ,\n",
       "        22.07081703,  21.93691422,  21.62889591,  23.54539101])"
      ]
     },
     "execution_count": 23,
     "metadata": {},
     "output_type": "execute_result"
    }
   ],
   "source": [
    "are"
   ]
  },
  {
   "cell_type": "code",
   "execution_count": 25,
   "metadata": {
    "collapsed": false
   },
   "outputs": [],
   "source": [
    "mat = reshape(are,(10,10))"
   ]
  },
  {
   "cell_type": "code",
   "execution_count": 26,
   "metadata": {
    "collapsed": false
   },
   "outputs": [
    {
     "data": {
      "text/plain": [
       "array([[ 72.96657945,  75.77667331,  76.05951556,  75.99762948,\n",
       "         75.9064334 ,  75.83713799,  75.79151117,  75.75583049,\n",
       "         75.64520644,  74.70757458],\n",
       "       [ 65.03979529,  68.00049454,  68.26749071,  67.99830241,\n",
       "         67.7118189 ,  67.50406029,  67.37103063,  67.2843985 ,\n",
       "         67.12926808,  66.17269295],\n",
       "       [ 60.71874119,  61.82844011,  61.4628008 ,  60.83938612,\n",
       "         60.33156487,  59.98758139,  59.77559705,  59.66510199,\n",
       "         59.62501412,  59.42905096],\n",
       "       [ 58.04331249,  56.81667724,  55.46611339,  54.38378291,\n",
       "         53.64320083,  53.17404828,  52.89392412,  52.7702529 ,\n",
       "         52.89914037,  53.68617341],\n",
       "       [ 56.06769859,  52.48167499,  50.03487171,  48.47696708,\n",
       "         47.52727604,  46.95920177,  46.62421712,  46.4720227 ,\n",
       "         46.69286751,  48.29496393],\n",
       "       [ 54.23617423,  48.36706794,  44.90672355,  42.96137004,\n",
       "         41.87209389,  41.25049639,  40.8794358 ,  40.66314923,\n",
       "         40.77051611,  42.6112457 ],\n",
       "       [ 52.05509462,  44.02162249,  39.82601928,  37.69290505,\n",
       "         36.58062141,  35.96997154,  35.59227025,  35.27892878,\n",
       "         34.97315789,  35.84150268],\n",
       "       [ 48.81184828,  38.9612532 ,  34.56930006,  32.55925878,\n",
       "         31.57792491,  31.05612541,  30.71664205,  30.31832449,\n",
       "         29.33349958,  26.8402455 ],\n",
       "       [ 43.13150238,  32.6671754 ,  28.98916927,  27.500642  ,\n",
       "         26.81749055,  26.46336974,  26.22123541,  25.84874752,\n",
       "         24.35066533,  13.82331372],\n",
       "       [ 32.02795637,  24.73129874,  23.09487005,  22.53014733,\n",
       "         22.28408535,  22.1585032 ,  22.07081703,  21.93691422,\n",
       "         21.62889591,  23.54539101]])"
      ]
     },
     "execution_count": 26,
     "metadata": {},
     "output_type": "execute_result"
    }
   ],
   "source": [
    "mat"
   ]
  },
  {
   "cell_type": "code",
   "execution_count": 30,
   "metadata": {
    "collapsed": false
   },
   "outputs": [
    {
     "data": {
      "text/plain": [
       "<matplotlib.contour.QuadContourSet instance at 0x36f0440>"
      ]
     },
     "execution_count": 30,
     "metadata": {},
     "output_type": "execute_result"
    },
    {
     "data": {
      "image/png": "[encoded data removed]"
     },
     "metadata": {},
     "output_type": "display_data"
    }
   ],
   "source": [
    "contourf(mat)"
   ]
  },
  {
   "cell_type": "code",
   "execution_count": 31,
   "metadata": {
    "collapsed": true
   },
   "outputs": [],
   "source": [
    "data20 = loadtxt(\"solution.txt\")"
   ]
  },
  {
   "cell_type": "code",
   "execution_count": 32,
   "metadata": {
    "collapsed": true
   },
   "outputs": [],
   "source": [
    "are20 = array(data20)"
   ]
  },
  {
   "cell_type": "code",
   "execution_count": 33,
   "metadata": {
    "collapsed": true
   },
   "outputs": [],
   "source": [
    "mat20 = reshape(are20,(20,20))"
   ]
  },
  {
   "cell_type": "code",
   "execution_count": 34,
   "metadata": {
    "collapsed": false
   },
   "outputs": [
    {
     "data": {
      "text/plain": [
       "<matplotlib.contour.QuadContourSet instance at 0x39fd0e0>"
      ]
     },
     "execution_count": 34,
     "metadata": {},
     "output_type": "execute_result"
    },
    {
     "data": {
      "image/png": "[encoded data removed]"
     },
     "metadata": {},
     "output_type": "display_data"
    }
   ],
   "source": [
    "contourf(mat20)"
   ]
  },
  {
   "cell_type": "code",
   "execution_count": 35,
   "metadata": {
    "collapsed": true
   },
   "outputs": [],
   "source": [
    "import pandas as pd"
   ]
  },
  {
   "cell_type": "code",
   "execution_count": 36,
   "metadata": {
    "collapsed": true
   },
   "outputs": [],
   "source": [
    "df1 = pd.DataFrame(mat)"
   ]
  },
  {
   "cell_type": "code",
   "execution_count": 37,
   "metadata": {
    "collapsed": false
   },
   "outputs": [
    {
     "data": {
      "text/plain": [
       "           0          1          2          3          4          5          6          7          8          9\n",
       "0  72.966579  75.776673  76.059516  75.997629  75.906433  75.837138  75.791511  75.755830  75.645206  74.707575\n",
       "1  65.039795  68.000495  68.267491  67.998302  67.711819  67.504060  67.371031  67.284398  67.129268  66.172693\n",
       "2  60.718741  61.828440  61.462801  60.839386  60.331565  59.987581  59.775597  59.665102  59.625014  59.429051\n",
       "3  58.043312  56.816677  55.466113  54.383783  53.643201  53.174048  52.893924  52.770253  52.899140  53.686173\n",
       "4  56.067699  52.481675  50.034872  48.476967  47.527276  46.959202  46.624217  46.472023  46.692868  48.294964\n",
       "5  54.236174  48.367068  44.906724  42.961370  41.872094  41.250496  40.879436  40.663149  40.770516  42.611246\n",
       "6  52.055095  44.021622  39.826019  37.692905  36.580621  35.969972  35.592270  35.278929  34.973158  35.841503\n",
       "7  48.811848  38.961253  34.569300  32.559259  31.577925  31.056125  30.716642  30.318324  29.333500  26.840245\n",
       "8  43.131502  32.667175  28.989169  27.500642  26.817491  26.463370  26.221235  25.848748  24.350665  13.823314\n",
       "9  32.027956  24.731299  23.094870  22.530147  22.284085  22.158503  22.070817  21.936914  21.628896  23.545391"
      ]
     },
     "execution_count": 37,
     "metadata": {},
     "output_type": "execute_result"
    }
   ],
   "source": [
    "df1"
   ]
  },
  {
   "cell_type": "code",
   "execution_count": 38,
   "metadata": {
    "collapsed": true
   },
   "outputs": [],
   "source": [
    "df2 = pd.DataFrame(mat20)"
   ]
  },
  {
   "cell_type": "code",
   "execution_count": 44,
   "metadata": {
    "collapsed": true
   },
   "outputs": [],
   "source": [
    "mat20r = mat20[::2,::2]"
   ]
  },
  {
   "cell_type": "code",
   "execution_count": 45,
   "metadata": {
    "collapsed": false
   },
   "outputs": [
    {
     "data": {
      "text/plain": [
       "array([[ 73.51262235,  77.3336487 ,  77.43192056,  77.34425184,\n",
       "         77.26887834,  77.22752771,  77.22064401,  77.24993356,\n",
       "         77.30322549,  77.11951219],\n",
       "       [ 63.0591284 ,  67.60489018,  67.64506902,  67.1607392 ,\n",
       "         66.77929038,  66.57376045,  66.54025786,  66.6904234 ,\n",
       "         67.00220399,  66.83453938],\n",
       "       [ 59.68717286,  60.49560915,  59.61779658,  58.60244803,\n",
       "         57.90204724,  57.53835732,  57.48276742,  57.7658725 ,\n",
       "         58.45310493,  59.27589215],\n",
       "       [ 58.14111009,  55.31420944,  53.03770423,  51.38171812,\n",
       "         50.3634116 ,  49.8573617 ,  49.78617035,  50.20649299,\n",
       "         51.34811658,  53.57894305],\n",
       "       [ 57.17502179,  51.29614508,  47.52326113,  45.21886116,\n",
       "         43.92143021,  43.30413813,  43.22418959,  43.76322351,\n",
       "         45.33790999,  48.97308333],\n",
       "       [ 56.38428284,  47.81586633,  42.68383173,  39.85145976,\n",
       "         38.36625339,  37.68760034,  37.60534814,  38.21539452,\n",
       "         40.08687931,  44.84496164],\n",
       "       [ 55.52273951,  44.31762975,  38.15260811,  35.05030193,\n",
       "         33.52439752,  32.85225372,  32.77401036,  33.38206653,\n",
       "         35.30583078,  40.61268213],\n",
       "       [ 54.22056104,  40.19227148,  33.61004391,  30.63900714,\n",
       "         29.26485132,  28.67878662,  28.61148037,  29.13354307,\n",
       "         30.7909108 ,  35.60486825],\n",
       "       [ 51.41706934,  34.68482901,  28.83406596,  26.51718943,\n",
       "         25.50453245,  25.08372405,  25.03516951,  25.3983598 ,\n",
       "         26.49597116,  29.16356453],\n",
       "       [ 42.89769212,  27.05269088,  23.8071651 ,  22.68186664,\n",
       "         22.20978698,  22.01681863,  21.9944018 ,  22.15589226,\n",
       "         22.59382042,  22.16893235]])"
      ]
     },
     "execution_count": 45,
     "metadata": {},
     "output_type": "execute_result"
    }
   ],
   "source": [
    "mat20r"
   ]
  },
  {
   "cell_type": "code",
   "execution_count": 46,
   "metadata": {
    "collapsed": false
   },
   "outputs": [
    {
     "data": {
      "text/plain": [
       "<matplotlib.contour.QuadContourSet instance at 0x3e748c0>"
      ]
     },
     "execution_count": 46,
     "metadata": {},
     "output_type": "execute_result"
    },
    {
     "data": {
      "image/png": "[encoded data removed]"
     },
     "metadata": {},
     "output_type": "display_data"
    }
   ],
   "source": [
    "contourf(mat20r)"
   ]
  },
  {
   "cell_type": "code",
   "execution_count": 47,
   "metadata": {
    "collapsed": true
   },
   "outputs": [],
   "source": [
    "diff20 = mat20r - mat"
   ]
  },
  {
   "cell_type": "code",
   "execution_count": 48,
   "metadata": {
    "collapsed": false
   },
   "outputs": [
    {
     "data": {
      "text/plain": [
       "100"
      ]
     },
     "execution_count": 48,
     "metadata": {},
     "output_type": "execute_result"
    }
   ],
   "source": [
    "diff20.size"
   ]
  },
  {
   "cell_type": "code",
   "execution_count": 51,
   "metadata": {
    "collapsed": false
   },
   "outputs": [],
   "source": [
    "diff20array = diff20.reshape(100)"
   ]
  },
  {
   "cell_type": "code",
   "execution_count": 53,
   "metadata": {
    "collapsed": false
   },
   "outputs": [
    {
     "data": {
      "text/plain": [
       "array([  0.54604289,   1.55697539,   1.372405  ,   1.34662236,\n",
       "         1.36244493,   1.39038973,   1.42913285,   1.49410307,\n",
       "         1.65801904,   2.41193762,  -1.98066688,  -0.39560436,\n",
       "        -0.62242169,  -0.83756321,  -0.93252852,  -0.93029983,\n",
       "        -0.83077277,  -0.5939751 ,  -0.12706409,   0.66184643,\n",
       "        -1.03156833,  -1.33283097,  -1.84500422,  -2.23693809,\n",
       "        -2.42951763,  -2.44922407,  -2.29282963,  -1.8992295 ,\n",
       "        -1.17190918,  -0.15315881,   0.0977976 ,  -1.50246779,\n",
       "        -2.42840917,  -3.00206479,  -3.27978923,  -3.31668658,\n",
       "        -3.10775376,  -2.56375991,  -1.5510238 ,  -0.10723036,\n",
       "         1.1073232 ,  -1.18552992,  -2.51161058,  -3.25810592,\n",
       "        -3.60584583,  -3.65506363,  -3.40002753,  -2.70879918,\n",
       "        -1.35495752,   0.6781194 ,   2.1481086 ,  -0.55120161,\n",
       "        -2.22289182,  -3.10991028,  -3.5058405 ,  -3.56289605,\n",
       "        -3.27408766,  -2.44775471,  -0.6836368 ,   2.23371594,\n",
       "         3.46764489,   0.29600727,  -1.67341117,  -2.64260312,\n",
       "        -3.05622389,  -3.11771782,  -2.81825989,  -1.89686225,\n",
       "         0.33267288,   4.77117945,   5.40871276,   1.23101828,\n",
       "        -0.95925615,  -1.92025164,  -2.31307359,  -2.37733879,\n",
       "        -2.10516168,  -1.18478141,   1.45741122,   8.76462275,\n",
       "         8.28556695,   2.01765361,  -0.15510332,  -0.98345257,\n",
       "        -1.31295809,  -1.37964569,  -1.1860659 ,  -0.45038771,\n",
       "         2.14530583,  15.34025081,  10.86973576,   2.32139214,\n",
       "         0.71229505,   0.15171931,  -0.07429838,  -0.14168456,\n",
       "        -0.07641524,   0.21897804,   0.96492452,  -1.37645866])"
      ]
     },
     "execution_count": 53,
     "metadata": {},
     "output_type": "execute_result"
    }
   ],
   "source": [
    "diff20array"
   ]
  },
  {
   "cell_type": "code",
   "execution_count": 54,
   "metadata": {
    "collapsed": false
   },
   "outputs": [
    {
     "data": {
      "text/plain": [
       "[<matplotlib.lines.Line2D at 0x43f7f10>]"
      ]
     },
     "execution_count": 54,
     "metadata": {},
     "output_type": "execute_result"
    },
    {
     "data": {
      "image/png": "[encoded data removed]"
     },
     "metadata": {},
     "output_type": "display_data"
    }
   ],
   "source": [
    "plot(diff20array)"
   ]
  },
  {
   "cell_type": "code",
   "execution_count": null,
   "metadata": {
    "collapsed": true
   },
   "outputs": [],
   "source": []
  }
 ],
 "metadata": {
  "anaconda-cloud": {}
 },
 "nbformat": 4,
 "nbformat_minor": 0
}
